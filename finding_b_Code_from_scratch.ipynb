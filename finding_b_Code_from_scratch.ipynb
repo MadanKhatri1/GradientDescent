{
 "cells": [
  {
   "cell_type": "code",
   "execution_count": 2,
   "id": "b9defcc4",
   "metadata": {},
   "outputs": [],
   "source": [
    "from sklearn.datasets import make_regression\n",
    "import numpy as np\n",
    "import matplotlib.pyplot as plt"
   ]
  },
  {
   "cell_type": "code",
   "execution_count": 5,
   "id": "37bc929e",
   "metadata": {},
   "outputs": [],
   "source": [
    "x,y = make_regression(n_samples=100, n_features=1, noise=20, random_state=42)"
   ]
  },
  {
   "cell_type": "code",
   "execution_count": 6,
   "id": "a6588963",
   "metadata": {},
   "outputs": [
    {
     "data": {
      "text/plain": [
       "<matplotlib.collections.PathCollection at 0x76cd4d3011d0>"
      ]
     },
     "execution_count": 6,
     "metadata": {},
     "output_type": "execute_result"
    },
    {
     "data": {
      "image/png": "[encoded data removed]",
      "text/plain": [
       "<Figure size 640x480 with 1 Axes>"
      ]
     },
     "metadata": {},
     "output_type": "display_data"
    }
   ],
   "source": [
    "plt.scatter(x, y)"
   ]
  },
  {
   "cell_type": "code",
   "execution_count": 7,
   "id": "4911cc79",
   "metadata": {},
   "outputs": [
    {
     "name": "stdout",
     "output_type": "stream",
     "text": [
      "Slope (m): 47.13323966963205, Intercept (b): 2.3302306410539453\n"
     ]
    }
   ],
   "source": [
    "from sklearn.linear_model import LinearRegression\n",
    "model = LinearRegression()\n",
    "model.fit(x, y)\n",
    "m = model.coef_[0]\n",
    "b = model.intercept_\n",
    "print(f\"Slope (m): {m}, Intercept (b): {b}\")"
   ]
  },
  {
   "cell_type": "code",
   "execution_count": 8,
   "id": "8709fd16",
   "metadata": {},
   "outputs": [],
   "source": [
    "m=  47.13323966963205"
   ]
  },
  {
   "cell_type": "code",
   "execution_count": 14,
   "id": "8ae4b5f2",
   "metadata": {},
   "outputs": [],
   "source": [
    "class GDRegressor:\n",
    "\n",
    "    def __init__(self,learning_rate,epochs):\n",
    "        self.m =  47.13323966963205\n",
    "        self.b = -120  #starting point\n",
    "        self.learning_rate = learning_rate\n",
    "        self.epochs = epochs\n",
    "    \n",
    "    def fit(self,x,y):\n",
    "        \n",
    "        #calculate b using gradient descent\n",
    "\n",
    "        for i in range(self.epochs):\n",
    "            derivate_wrt_b = -2 * np.sum(y - self.m*x.ravel() - self.b)\n",
    "            print(derivate_wrt_b)\n",
    "            self.b = self.b - self.learning_rate * derivate_wrt_b\n",
    "            print(self.b)\n",
    "\n",
    "        print(self.b)"
   ]
  },
  {
   "cell_type": "code",
   "execution_count": 19,
   "id": "c5871ccb",
   "metadata": {},
   "outputs": [
    {
     "name": "stdout",
     "output_type": "stream",
     "text": [
      "-24466.04612821079\n",
      "-95.53395387178921\n",
      "-19572.836902568633\n",
      "-75.96111696922057\n",
      "-15658.269522054903\n",
      "-60.30284744716567\n",
      "-12526.615617643924\n",
      "-47.77623182952175\n",
      "-10021.29249411514\n",
      "-37.75493933540661\n",
      "-8017.033995292112\n",
      "-29.737905340114498\n",
      "-6413.627196233689\n",
      "-23.32427814388081\n",
      "-5130.901756986951\n",
      "-18.19337638689386\n",
      "-4104.72140558956\n",
      "-14.088654981304298\n",
      "-3283.7771244716487\n",
      "-10.80487785683265\n",
      "-2627.0216995773194\n",
      "-8.17785615725533\n",
      "-2101.6173596618555\n",
      "-6.076238797593476\n",
      "-1681.2938877294841\n",
      "-4.394944909863992\n",
      "-1345.0351101835872\n",
      "-3.0499097996804045\n",
      "-1076.02808814687\n",
      "-1.9738817115335345\n",
      "-860.8224705174957\n",
      "-1.113059241016039\n",
      "-688.6579764139967\n",
      "-0.4244012646020422\n",
      "-550.9263811311976\n",
      "0.12652511652915532\n",
      "-440.7411049049579\n",
      "0.5672662214341133\n",
      "-352.5928839239663\n",
      "0.9198591053580796\n",
      "-282.0743071391732\n",
      "1.2019334124972527\n",
      "-225.65944571133832\n",
      "1.427592858208591\n",
      "-180.52755656907078\n",
      "1.6081204147776618\n",
      "-144.4220452552566\n",
      "1.7525424600329185\n",
      "-115.53763620420517\n",
      "1.8680800962371236\n",
      "-92.43010896336432\n",
      "1.960510205200488\n",
      "-73.94408717069136\n",
      "2.0344542923711795\n",
      "-59.15526973655302\n",
      "2.0936095621077326\n",
      "-47.32421578924239\n",
      "2.140933777896975\n",
      "-37.85937263139393\n",
      "2.1787931505283686\n",
      "-30.28749810511534\n",
      "2.209080648633484\n",
      "-24.229998484092114\n",
      "2.233310647117576\n",
      "-19.38399878727371\n",
      "2.2526946459048496\n",
      "-15.507199029819049\n",
      "2.268201844934669\n",
      "-12.405759223855284\n",
      "2.280607604158524\n",
      "-9.924607379084136\n",
      "2.290532211537608\n",
      "-7.939685903267261\n",
      "2.2984718974408755\n",
      "-6.351748722613777\n",
      "2.3048236461634892\n",
      "-5.081398978091201\n",
      "2.3099050451415803\n",
      "-4.065119182473019\n",
      "2.3139701643240533\n",
      "-3.2520953459783044\n",
      "2.317222259670032\n",
      "-2.601676276782534\n",
      "2.3198239359468142\n",
      "-2.0813410214260486\n",
      "2.3219052769682405\n",
      "-1.6650728171408247\n",
      "2.3235703497853812\n",
      "-1.3320582537127024\n",
      "2.324902408039094\n",
      "-1.0656466029702045\n",
      "2.3259680546420642\n",
      "-0.8525172823761267\n",
      "2.3268205719244404\n",
      "-0.6820138259009312\n",
      "2.327502585750341\n",
      "-0.545611060720816\n",
      "2.328048196811062\n",
      "-0.4364888485767011\n",
      "2.328484685659639\n",
      "-0.3491910788612955\n",
      "2.3288338767385\n",
      "-0.2793528630889597\n",
      "2.329113229601589\n",
      "-0.22348229047118195\n",
      "2.32933671189206\n",
      "-0.17878583237695977\n",
      "2.329515497724437\n",
      "-0.14302866590163887\n",
      "2.3296585263903387\n",
      "-0.11442293272126847\n",
      "2.32977294932306\n",
      "-0.09153834617696077\n",
      "2.3298644876692367\n",
      "-0.07323067694160557\n",
      "2.3299377183461782\n",
      "-0.058584541553273084\n",
      "2.3299963028877313\n",
      "-0.046867633242655415\n",
      "2.330043170520974\n",
      "2.330043170520974\n"
     ]
    }
   ],
   "source": [
    "gd = GDRegressor(learning_rate=0.001,epochs=60)\n",
    "gd.fit(x,y)"
   ]
  },
  {
   "cell_type": "markdown",
   "id": "dc9d4f95",
   "metadata": {},
   "source": [
    "as we can see the intercept is almost exactly same as given by sklearn "
   ]
  },
  {
   "cell_type": "code",
   "execution_count": null,
   "id": "b7ff4e5e",
   "metadata": {},
   "outputs": [],
   "source": []
  }
 ],
 "metadata": {
  "kernelspec": {
   "display_name": "myenv",
   "language": "python",
   "name": "python3"
  },
  "language_info": {
   "codemirror_mode": {
    "name": "ipython",
    "version": 3
   },
   "file_extension": ".py",
   "mimetype": "text/x-python",
   "name": "python",
   "nbconvert_exporter": "python",
   "pygments_lexer": "ipython3",
   "version": "3.13.7"
  }
 },
 "nbformat": 4,
 "nbformat_minor": 5
}
