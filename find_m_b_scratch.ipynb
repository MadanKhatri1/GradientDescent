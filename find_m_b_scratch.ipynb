{
 "cells": [
  {
   "cell_type": "code",
   "execution_count": 15,
   "id": "fdfc8dc7",
   "metadata": {},
   "outputs": [],
   "source": [
    "from sklearn.datasets import make_regression\n",
    "import numpy as np\n",
    "import matplotlib.pyplot as plt\n",
    "from sklearn.model_selection import cross_val_score"
   ]
  },
  {
   "cell_type": "code",
   "execution_count": 12,
   "id": "4339c8d4",
   "metadata": {},
   "outputs": [],
   "source": [
    "x,y = make_regression(n_samples=100, n_features=1, noise=20, random_state=39)"
   ]
  },
  {
   "cell_type": "code",
   "execution_count": 13,
   "id": "0416020f",
   "metadata": {},
   "outputs": [
    {
     "data": {
      "text/plain": [
       "<matplotlib.collections.PathCollection at 0x78d232490e10>"
      ]
     },
     "execution_count": 13,
     "metadata": {},
     "output_type": "execute_result"
    },
    {
     "data": {
      "image/png": "[encoded data removed]",
      "text/plain": [
       "<Figure size 640x480 with 1 Axes>"
      ]
     },
     "metadata": {},
     "output_type": "display_data"
    }
   ],
   "source": [
    "plt.scatter(x, y)"
   ]
  },
  {
   "cell_type": "code",
   "execution_count": 14,
   "id": "58243795",
   "metadata": {},
   "outputs": [
    {
     "name": "stdout",
     "output_type": "stream",
     "text": [
      "Slope (m): 50.721677433629644, Intercept (b): 1.1427181605315346\n"
     ]
    }
   ],
   "source": [
    "from sklearn.linear_model import LinearRegression\n",
    "model = LinearRegression()\n",
    "model.fit(x, y)\n",
    "m = model.coef_[0]\n",
    "b = model.intercept_\n",
    "print(f\"Slope (m): {m}, Intercept (b): {b}\")"
   ]
  },
  {
   "cell_type": "code",
   "execution_count": 16,
   "id": "54d4185a",
   "metadata": {},
   "outputs": [
    {
     "data": {
      "text/plain": [
       "np.float64(0.7731980889135933)"
      ]
     },
     "execution_count": 16,
     "metadata": {},
     "output_type": "execute_result"
    }
   ],
   "source": [
    "np.mean(cross_val_score(model,x,y,scoring='r2',cv=10))"
   ]
  },
  {
   "cell_type": "code",
   "execution_count": 19,
   "id": "2d47f8cd",
   "metadata": {},
   "outputs": [],
   "source": [
    "class GDRegressor:\n",
    "\n",
    "    def __init__(self,learning_rate,epochs):\n",
    "        self.m =  100  #starting point\n",
    "        self.b = -120  #starting point\n",
    "        self.learning_rate = learning_rate\n",
    "        self.epochs = epochs\n",
    "    \n",
    "    def fit(self,x,y):\n",
    "        \n",
    "        #calculate b using gradient descent\n",
    "\n",
    "        for i in range(self.epochs):\n",
    "            derivate_wrt_b = -2 * np.sum(y - self.m*x.ravel() - self.b)\n",
    "            self.b = self.b - self.learning_rate * derivate_wrt_b\n",
    "\n",
    "            derivate_wrt_m = -2 * np.sum((y - self.m*x.ravel() - self.m)*x.ravel())\n",
    "            self.m = self.m - self.learning_rate * derivate_wrt_m\n",
    "\n",
    "        print(self.m)\n",
    "        print(self.b)"
   ]
  },
  {
   "cell_type": "code",
   "execution_count": 20,
   "id": "ebf09f1d",
   "metadata": {},
   "outputs": [
    {
     "name": "stdout",
     "output_type": "stream",
     "text": [
      "49.469157734666204\n",
      "1.1754523396969212\n"
     ]
    }
   ],
   "source": [
    "gd = GDRegressor(learning_rate=0.001,epochs=60)\n",
    "gd.fit(x,y)"
   ]
  },
  {
   "cell_type": "markdown",
   "id": "d46fb49e",
   "metadata": {},
   "source": [
    "as we can see now both the slope as well as intercept is comming out to be identical "
   ]
  },
  {
   "cell_type": "code",
   "execution_count": null,
   "id": "bf7b8915",
   "metadata": {},
   "outputs": [],
   "source": []
  }
 ],
 "metadata": {
  "kernelspec": {
   "display_name": "myenv",
   "language": "python",
   "name": "python3"
  },
  "language_info": {
   "codemirror_mode": {
    "name": "ipython",
    "version": 3
   },
   "file_extension": ".py",
   "mimetype": "text/x-python",
   "name": "python",
   "nbconvert_exporter": "python",
   "pygments_lexer": "ipython3",
   "version": "3.13.7"
  }
 },
 "nbformat": 4,
 "nbformat_minor": 5
}
